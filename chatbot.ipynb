{
 "cells": [
  {
   "cell_type": "code",
   "execution_count": 10,
   "id": "dbc14ba5",
   "metadata": {
    "collapsed": true
   },
   "outputs": [
    {
     "name": "stdout",
     "output_type": "stream",
     "text": [
      "Collecting torch\n",
      "  Downloading torch-2.2.0-cp39-cp39-win_amd64.whl (198.5 MB)\n",
      "Collecting torchvision\n",
      "  Downloading torchvision-0.17.0-cp39-cp39-win_amd64.whl (1.2 MB)\n",
      "Requirement already satisfied: filelock in c:\\users\\akshay\\anaconda3\\lib\\site-packages (from torch) (3.6.0)\n",
      "Requirement already satisfied: networkx in c:\\users\\akshay\\anaconda3\\lib\\site-packages (from torch) (2.7.1)\n",
      "Requirement already satisfied: fsspec in c:\\users\\akshay\\anaconda3\\lib\\site-packages (from torch) (2022.2.0)\n",
      "Requirement already satisfied: sympy in c:\\users\\akshay\\anaconda3\\lib\\site-packages (from torch) (1.10.1)\n",
      "Requirement already satisfied: jinja2 in c:\\users\\akshay\\anaconda3\\lib\\site-packages (from torch) (2.11.3)\n",
      "Collecting typing-extensions>=4.8.0\n",
      "  Downloading typing_extensions-4.9.0-py3-none-any.whl (32 kB)\n",
      "Requirement already satisfied: requests in c:\\users\\akshay\\anaconda3\\lib\\site-packages (from torchvision) (2.27.1)\n",
      "Requirement already satisfied: pillow!=8.3.*,>=5.3.0 in c:\\users\\akshay\\anaconda3\\lib\\site-packages (from torchvision) (10.2.0)\n",
      "Requirement already satisfied: numpy in c:\\users\\akshay\\anaconda3\\lib\\site-packages (from torchvision) (1.21.5)\n",
      "Requirement already satisfied: MarkupSafe>=0.23 in c:\\users\\akshay\\anaconda3\\lib\\site-packages (from jinja2->torch) (2.0.1)\n",
      "Requirement already satisfied: urllib3<1.27,>=1.21.1 in c:\\users\\akshay\\anaconda3\\lib\\site-packages (from requests->torchvision) (1.26.9)\n",
      "Requirement already satisfied: certifi>=2017.4.17 in c:\\users\\akshay\\anaconda3\\lib\\site-packages (from requests->torchvision) (2021.10.8)\n",
      "Requirement already satisfied: charset-normalizer~=2.0.0 in c:\\users\\akshay\\anaconda3\\lib\\site-packages (from requests->torchvision) (2.0.4)\n",
      "Requirement already satisfied: idna<4,>=2.5 in c:\\users\\akshay\\anaconda3\\lib\\site-packages (from requests->torchvision) (3.3)\n",
      "Requirement already satisfied: mpmath>=0.19 in c:\\users\\akshay\\anaconda3\\lib\\site-packages (from sympy->torch) (1.2.1)\n",
      "Installing collected packages: typing-extensions, torch, torchvision\n",
      "  Attempting uninstall: typing-extensions\n",
      "    Found existing installation: typing-extensions 4.1.1\n",
      "    Uninstalling typing-extensions-4.1.1:\n",
      "      Successfully uninstalled typing-extensions-4.1.1\n",
      "Successfully installed torch-2.2.0 torchvision-0.17.0 typing-extensions-4.9.0\n",
      "Note: you may need to restart the kernel to use updated packages.\n"
     ]
    }
   ],
   "source": [
    "pip install torch torchvision"
   ]
  },
  {
   "cell_type": "code",
   "execution_count": 12,
   "id": "fb6020c4",
   "metadata": {
    "collapsed": true
   },
   "outputs": [
    {
     "name": "stdout",
     "output_type": "stream",
     "text": [
      "Collecting transformersNote: you may need to restart the kernel to use updated packages.\n",
      "\n",
      "  Downloading transformers-4.37.2-py3-none-any.whl (8.4 MB)\n",
      "Requirement already satisfied: requests in c:\\users\\akshay\\anaconda3\\lib\\site-packages (from transformers) (2.27.1)\n",
      "Collecting huggingface-hub<1.0,>=0.19.3\n",
      "  Downloading huggingface_hub-0.20.3-py3-none-any.whl (330 kB)\n",
      "Collecting safetensors>=0.4.1\n",
      "  Downloading safetensors-0.4.2-cp39-none-win_amd64.whl (269 kB)\n",
      "Requirement already satisfied: tqdm>=4.27 in c:\\users\\akshay\\anaconda3\\lib\\site-packages (from transformers) (4.64.0)\n",
      "Requirement already satisfied: pyyaml>=5.1 in c:\\users\\akshay\\anaconda3\\lib\\site-packages (from transformers) (6.0)\n",
      "Requirement already satisfied: packaging>=20.0 in c:\\users\\akshay\\anaconda3\\lib\\site-packages (from transformers) (21.3)\n",
      "Requirement already satisfied: numpy>=1.17 in c:\\users\\akshay\\anaconda3\\lib\\site-packages (from transformers) (1.21.5)\n",
      "Collecting tokenizers<0.19,>=0.14\n",
      "  Downloading tokenizers-0.15.2-cp39-none-win_amd64.whl (2.2 MB)\n",
      "Requirement already satisfied: regex!=2019.12.17 in c:\\users\\akshay\\anaconda3\\lib\\site-packages (from transformers) (2022.3.15)\n",
      "Requirement already satisfied: filelock in c:\\users\\akshay\\anaconda3\\lib\\site-packages (from transformers) (3.6.0)\n",
      "Collecting fsspec>=2023.5.0\n",
      "  Downloading fsspec-2024.2.0-py3-none-any.whl (170 kB)\n",
      "Requirement already satisfied: typing-extensions>=3.7.4.3 in c:\\users\\akshay\\anaconda3\\lib\\site-packages (from huggingface-hub<1.0,>=0.19.3->transformers) (4.9.0)\n",
      "Requirement already satisfied: pyparsing!=3.0.5,>=2.0.2 in c:\\users\\akshay\\anaconda3\\lib\\site-packages (from packaging>=20.0->transformers) (3.0.4)\n",
      "Requirement already satisfied: colorama in c:\\users\\akshay\\anaconda3\\lib\\site-packages (from tqdm>=4.27->transformers) (0.4.4)\n",
      "Requirement already satisfied: charset-normalizer~=2.0.0 in c:\\users\\akshay\\anaconda3\\lib\\site-packages (from requests->transformers) (2.0.4)\n",
      "Requirement already satisfied: urllib3<1.27,>=1.21.1 in c:\\users\\akshay\\anaconda3\\lib\\site-packages (from requests->transformers) (1.26.9)\n",
      "Requirement already satisfied: certifi>=2017.4.17 in c:\\users\\akshay\\anaconda3\\lib\\site-packages (from requests->transformers) (2021.10.8)\n",
      "Requirement already satisfied: idna<4,>=2.5 in c:\\users\\akshay\\anaconda3\\lib\\site-packages (from requests->transformers) (3.3)\n",
      "Installing collected packages: fsspec, huggingface-hub, tokenizers, safetensors, transformers\n",
      "  Attempting uninstall: fsspec\n",
      "    Found existing installation: fsspec 2022.2.0\n",
      "    Uninstalling fsspec-2022.2.0:\n",
      "      Successfully uninstalled fsspec-2022.2.0\n",
      "Successfully installed fsspec-2024.2.0 huggingface-hub-0.20.3 safetensors-0.4.2 tokenizers-0.15.2 transformers-4.37.2\n"
     ]
    }
   ],
   "source": [
    "pip install transformers\n"
   ]
  },
  {
   "cell_type": "code",
   "execution_count": 1,
   "id": "e1d31a38",
   "metadata": {},
   "outputs": [
    {
     "name": "stdout",
     "output_type": "stream",
     "text": [
      "Ask a question: who is one minute manager?\n",
      "Answer:  RENAUD, President & Chief Executive Officer, Jerrico, Inc. “I believe The One Minute Manager should be made ‘standard issue’ at all management development training programs from new managers’ school to advanced management 3 Kenneth Blanchard & Spenser Johnson – THE ONE MINUTE MANAGER training. It embodies (in an easy-to-read form) the fundamental principles of people management we are trying to instill in our management team. I have made it required reading for all our managers.” —DAVID HANNA, President GRiD Systems Corporation “Buying copies of The One Minute Manager is one of the best investments I’ve made in myself and in our managers.” —LOUIS P. NEEB, President Fast Food Division, W. R. Grace & Co. (formerly Chairman of the Board, Burger King Corp.) “Should you apply one-minute management? Yes!” “The One Minute Manager ... don’t miss it!” —WORKING WOMAN —MERV GRIFFIN “Our managers are using The One Minute Manager ’s practical method in our ‘Yellow Pages’ operation all over the wor\n"
     ]
    }
   ],
   "source": [
    "import os\n",
    "import re\n",
    "import pdfminer.high_level\n",
    "import torch\n",
    "from transformers import AutoTokenizer, AutoModel\n",
    "import math\n",
    "# Function to read PDF and extract text\n",
    "def extract_text_from_pdf(pdf_path):\n",
    "    output = \"\"\n",
    "    with open(pdf_path, 'rb') as f:\n",
    "        output = pdfminer.high_level.extract_text(f)\n",
    "    return output\n",
    "\n",
    "# Function to preprocess text\n",
    "def preprocess_text(text):\n",
    "    # Remove special characters and extra spaces\n",
    "    text = re.sub(r'\\s+', ' ', text)\n",
    "    return text\n",
    "\n",
    "# Function to split text into chunks\n",
    "def split_text_into_chunks(text, chunk_size=1000):\n",
    "    chunks = []\n",
    "    for i in range(0, len(text), chunk_size):\n",
    "        chunks.append(text[i:i+chunk_size])\n",
    "    return chunks\n",
    "\n",
    "# Function to embed text using a pre-trained model\n",
    "def embed_text(text):\n",
    "    tokenizer = AutoTokenizer.from_pretrained(\"sentence-transformers/paraphrase-MiniLM-L6-v2\")\n",
    "    model = AutoModel.from_pretrained(\"sentence-transformers/paraphrase-MiniLM-L6-v2\")\n",
    "    inputs = tokenizer(text, return_tensors=\"pt\", padding=True, truncation=True, max_length=512)\n",
    "    with torch.no_grad():\n",
    "        outputs = model(**inputs)\n",
    "    embeddings = torch.mean(outputs.last_hidden_state, dim=1).squeeze().tolist()\n",
    "    return embeddings\n",
    "\n",
    "\n",
    "\n",
    "# Function to compute cosine similarity\n",
    "def cosine_similarity(embedding1, embedding2):\n",
    "    dot_product = sum(a * b for a, b in zip(embedding1, embedding2))\n",
    "    magnitude1 = math.sqrt(sum(a ** 2 for a in embedding1))\n",
    "    magnitude2 = math.sqrt(sum(b ** 2 for b in embedding2))\n",
    "    if magnitude1 == 0 or magnitude2 == 0:\n",
    "        return 0  # Handle edge case when one of the embeddings is zero\n",
    "    return dot_product / (magnitude1 * magnitude2)\n",
    "\n",
    "# Function to search for the answer using cosine similarity\n",
    "def search_answer(question, chunks, chunk_embeddings, threshold=0.5):\n",
    "    question_embedding = embed_text(question)\n",
    "    max_similarity = -1\n",
    "    best_chunk = None\n",
    "    for i, chunk_embedding in enumerate(chunk_embeddings):\n",
    "        similarity = cosine_similarity(question_embedding, chunk_embedding)\n",
    "        if similarity > max_similarity:\n",
    "            max_similarity = similarity\n",
    "            best_chunk = chunks[i]\n",
    "    return best_chunk if max_similarity > threshold else \"I don't know the answer.\"\n",
    "\n",
    "\n",
    "# Example usage\n",
    "if __name__ == \"__main__\":\n",
    "    document_path = \"document.pdf\"\n",
    "    question = input(\"Ask a question: \")\n",
    "\n",
    "    # Read document and preprocess text\n",
    "    text = extract_text_from_pdf(document_path)\n",
    "    text = preprocess_text(text)\n",
    "\n",
    "    # Split text into chunks\n",
    "    chunks = split_text_into_chunks(text)\n",
    "\n",
    "    # Embed each chunk\n",
    "    chunk_embeddings = [embed_text(chunk) for chunk in chunks]\n",
    "\n",
    "    # Search for the answer\n",
    "    answer = search_answer(question, chunks, chunk_embeddings, threshold=0.3)\n",
    "    print(\"Answer:\", answer)\n"
   ]
  },
  {
   "cell_type": "code",
   "execution_count": null,
   "id": "e329bb61",
   "metadata": {},
   "outputs": [],
   "source": []
  },
  {
   "cell_type": "code",
   "execution_count": null,
   "id": "14de76a6",
   "metadata": {},
   "outputs": [],
   "source": []
  }
 ],
 "metadata": {
  "kernelspec": {
   "display_name": "Python 3 (ipykernel)",
   "language": "python",
   "name": "python3"
  },
  "language_info": {
   "codemirror_mode": {
    "name": "ipython",
    "version": 3
   },
   "file_extension": ".py",
   "mimetype": "text/x-python",
   "name": "python",
   "nbconvert_exporter": "python",
   "pygments_lexer": "ipython3",
   "version": "3.9.12"
  }
 },
 "nbformat": 4,
 "nbformat_minor": 5
}
